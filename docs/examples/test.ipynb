{
 "cells": [
  {
   "cell_type": "code",
   "execution_count": 1,
   "metadata": {},
   "outputs": [],
   "source": [
    "%load_ext autoreload\n",
    "%autoreload 2"
   ]
  },
  {
   "cell_type": "code",
   "execution_count": 2,
   "metadata": {},
   "outputs": [],
   "source": [
    "import lumnisai\n",
    "from lumnisai.types import Scope\n",
    "from IPython.display import Markdown\n",
    "from tqdm import tqdm\n",
    "import asyncio\n",
    "def display_markdown(text):\n",
    "    display(Markdown(text))\n"
   ]
  },
  {
   "cell_type": "code",
   "execution_count": 3,
   "metadata": {},
   "outputs": [
    {
     "name": "stdout",
     "output_type": "stream",
     "text": [
      "alice1@test-acme.one\n",
      "user32@example.com\n",
      "user22@example.com\n",
      "user12@example.com\n",
      "john.doe1@example.com\n",
      "user3@example.com\n",
      "user2@example.com\n",
      "john.doe@example.com\n",
      "alice@test-acme.one\n"
     ]
    }
   ],
   "source": [
    "client = lumnisai.AsyncClient()    \n",
    "users = await client.list_users(page_size=50)\n",
    "if len(users.users) == 0:\n",
    "    user = await client.create_user( email=\"alice@test-acme.one\", first_name=\"John\", last_name=\"Doe\" )\n",
    "\n",
    "for user in users.users:\n",
    "    print(user.email)\n"
   ]
  },
  {
   "cell_type": "code",
   "execution_count": 4,
   "metadata": {},
   "outputs": [
    {
     "name": "stderr",
     "output_type": "stream",
     "text": [
      "  0%|          | 0/9 [00:00<?, ?it/s]"
     ]
    },
    {
     "name": "stdout",
     "output_type": "stream",
     "text": [
      "PROCESSING: Starting agent...\n",
      "PROCESSING: I'm now searching for the latest weather information in Tokyo, Japan.\n",
      "PROCESSING: I'm now analyzing the latest weather data for Tokyo and will summarize the current conditions, including temperature, weather alerts, and cite all sources for you.\n",
      "PROCESSING: I'm now analyzing the latest weather data for Tokyo and preparing a clear summary, including temperature, conditions, and any important alerts, with sources provided.\n",
      "COMPLETED: Response completed successfully.\n"
     ]
    },
    {
     "data": {
      "text/markdown": [
       "As of June 16, 2025, the current weather in Tokyo, Japan is:\n",
       "\n",
       "- **Temperature:** Around 79°F (26°C) in the evening, with daytime highs reaching 91°F (33°C) and lows around 76°F (24°C).\n",
       "- **Weather Conditions:** Mostly sunny to partly cloudy. Humidity is high (around 79%), making it feel warmer. Winds are from the south at about 12 mph.\n",
       "- **Notable Alerts:**  \n",
       "  - A period of record-breaking heat is expected this week, with temperatures forecast to reach or exceed 35°C (95°F) on June 17–18.  \n",
       "  - The Japan Meteorological Agency has issued a high temperature advisory, warning of potential heatstroke risk, especially at night when temperatures may not drop significantly.  \n",
       "  - Residents are advised to stay hydrated and use air conditioning, as there is a risk of heat-related illness, including at night (熱中症警戒アラート).\n",
       "\n",
       "**Summary:**  \n",
       "Tokyo is experiencing very hot and humid weather, with a heatwave expected to intensify over the next few days. Take precautions against heatstroke, especially during the hottest part of the day and overnight.\n",
       "\n",
       "**Sources:**  \n",
       "- [Time and Date: Tokyo Weather](https://www.timeanddate.com/weather/japan/tokyo)  \n",
       "- [tenki.jp (Japanese, weather alert and forecast)](https://tenki.jp/forecaster/r_fukutomi/2025/06/15/34131.html)  \n",
       "- [Weather for Yokohama (nearby, for reference)](https://www.timeanddate.com/weather/japan/yokohama)"
      ],
      "text/plain": [
       "<IPython.core.display.Markdown object>"
      ]
     },
     "metadata": {},
     "output_type": "display_data"
    },
    {
     "name": "stderr",
     "output_type": "stream",
     "text": [
      " 11%|█         | 1/9 [00:37<05:03, 37.95s/it]"
     ]
    },
    {
     "name": "stdout",
     "output_type": "stream",
     "text": [
      "PROCESSING: Starting agent...\n",
      "PROCESSING: I'm now searching for the latest weather information in Tokyo, Japan.\n",
      "PROCESSING: Let me analyze the latest weather data for Tokyo and summarize the current conditions for you, including temperature, weather, and any alerts, with sources.\n",
      "PROCESSING: I'm now preparing the final summary of the current weather in Tokyo, including temperature, conditions, and any weather alerts, with sources cited.\n",
      "COMPLETED: Response completed successfully.\n"
     ]
    },
    {
     "data": {
      "text/markdown": [
       "Here is the latest weather information for Tokyo, Japan:\n",
       "\n",
       "**Current Conditions (as of June 15, 2025):**\n",
       "- **Temperature:** Around 76°F (24°C) in the morning, rising to a high of 86°F (30°C) and a low of 75°F (24°C) during the day.\n",
       "- **Conditions:** Cloudy with showery periods. Humidity is high (around 98% in the morning). Winds are from the south at about 12 mph.\n",
       "- **Rain:** Showers are expected, with a high chance of precipitation (up to 99% during the day). Total rainfall could be around 0.87 inches.\n",
       "- **Notable Alerts:** No severe weather warnings reported, but the high humidity and heat mean caution for heat-related illnesses is advised. Japanese sources warn of \"猛暑日\" (extremely hot days) and recommend heatstroke precautions.\n",
       "- **UV Index:** Moderate to high.\n",
       "\n",
       "**Summary Table:**\n",
       "\n",
       "| Time         | Temp (°F/°C) | Condition         | Rain Chance | Humidity | Wind      |\n",
       "|--------------|--------------|-------------------|-------------|----------|-----------|\n",
       "| Morning      | 76°F / 24°C  | Cloudy, Showers   | 99%         | 98%      | S 12 mph  |\n",
       "| Afternoon    | 86°F / 30°C  | Cloudy, Showers   | 99%         | 72%      | S 6 mph   |\n",
       "| Evening      | 75°F / 24°C  | Cloudy, Showers   | 99%         | 75%      | S 6 mph   |\n",
       "\n",
       "**Heat Advisory:**  \n",
       "Japanese weather news reports that today is one of the hottest days so far this year, with \"猛暑日\" (mousho-bi, extremely hot day) conditions. Please take precautions against heatstroke, especially if spending time outdoors.\n",
       "\n",
       "---\n",
       "\n",
       "**Sources:**\n",
       "- [Time and Date: Tokyo Weather](https://www.timeanddate.com/weather/japan/tokyo)\n",
       "- [The Weather Channel: 10-Day Forecast for Tokyo](https://weather.com/weather/tenday/l/Minato+ku+Tokyo+Prefecture+Japan?canonicalCityId=89a9a327ec5fd290c4d12f51a20485cb)\n",
       "- [Weathernews Japan (日本語)](https://weathernews.jp/onebox/tenki/tokyo/13209/)\n",
       "- [BBC Weather: Tokyo](https://www.bbc.com/weather/1850147)\n",
       "\n",
       "Let me know if you need a more detailed hourly forecast or specific information!"
      ],
      "text/plain": [
       "<IPython.core.display.Markdown object>"
      ]
     },
     "metadata": {},
     "output_type": "display_data"
    },
    {
     "name": "stderr",
     "output_type": "stream",
     "text": [
      " 22%|██▏       | 2/9 [00:39<01:57, 16.81s/it]"
     ]
    },
    {
     "name": "stdout",
     "output_type": "stream",
     "text": [
      "PROCESSING: Starting agent...\n",
      "PROCESSING: I'm now searching for the latest weather information in Tokyo, Japan.\n",
      "PROCESSING: I'm now analyzing the latest weather data for Tokyo and preparing a clear summary, including temperature, conditions, and any important alerts, with sources provided.\n",
      "PROCESSING: I've completed your request and provided a summary of the current weather in Tokyo, including temperature, conditions, and any alerts, with sources. No further steps are needed.\n",
      "COMPLETED: Response completed successfully.\n"
     ]
    },
    {
     "data": {
      "text/markdown": [
       "Here is the latest weather information for Tokyo, Japan:\n",
       "\n",
       "### Current Weather (as of June 16, 2025)\n",
       "\n",
       "- **Temperature:**  \n",
       "  - Around 27–29°C (81–84°F) in the afternoon and evening  \n",
       "  - Example: 29.6°C at 1pm, 27.6°C at 11pm ([Weathernews.jp](https://weathernews.jp/onebox/tenki/tokyo/13209/))\n",
       "- **Conditions:**  \n",
       "  - **Sunny to partly cloudy** throughout the day  \n",
       "  - No precipitation recorded; skies have been mostly clear ([Weathernews.jp](https://weathernews.jp/onebox/tenki/tokyo/13209/))\n",
       "- **Humidity:**  \n",
       "  - High, with values around 60–70% ([Weathernews.jp](https://weathernews.jp/onebox/tenki/tokyo/13209/))\n",
       "- **Wind:**  \n",
       "  - Light to moderate, mostly from the south\n",
       "\n",
       "### Notable Alerts & Forecast\n",
       "\n",
       "- **Heat Advisory:**  \n",
       "  - Tokyo is experiencing a heatwave, with temperatures reaching near 30°C.  \n",
       "  - There is a warning for heatstroke risk; people are advised to take precautions ([Weathernews.jp](https://weathernews.jp/onebox/tenki/tokyo/13209/)).\n",
       "- **No rain or severe weather** is expected today.\n",
       "\n",
       "### Short-term Forecast\n",
       "\n",
       "- **Tonight:**  \n",
       "  - Temperatures will remain warm, staying above 25°C (77°F) until late evening.\n",
       "- **Tomorrow:**  \n",
       "  - The hot weather is expected to continue, with similar high temperatures and mostly sunny skies.\n",
       "\n",
       "---\n",
       "\n",
       "#### Sources\n",
       "\n",
       "- [Weathernews.jp - Tokyo Hourly Weather](https://weathernews.jp/onebox/tenki/tokyo/13209/)\n",
       "- [Weathernews.jp - Tokyo Weekly Weather](https://weathernews.jp/onebox/tenki/tokyo/13209/week.html)\n",
       "- [The Weather Channel - Tokyo 10-Day Forecast](https://weather.com/weather/tenday/l/Minato+ku+Tokyo+Prefecture+Japan?canonicalCityId=89a9a327ec5fd290c4d12f51a20485cb)\n",
       "\n",
       "**Note:** All data is current as of June 16, 2025, local time."
      ],
      "text/plain": [
       "<IPython.core.display.Markdown object>"
      ]
     },
     "metadata": {},
     "output_type": "display_data"
    },
    {
     "name": "stderr",
     "output_type": "stream",
     "text": [
      " 33%|███▎      | 3/9 [00:41<00:59,  9.93s/it]"
     ]
    },
    {
     "name": "stdout",
     "output_type": "stream",
     "text": [
      "PROCESSING: Starting agent...\n",
      "PROCESSING: I'm now searching for the latest weather information in Tokyo, Japan.\n",
      "PROCESSING: I'm now analyzing the latest weather data for Tokyo and preparing a clear summary, including temperature, conditions, and any important alerts. I'll also provide links to the sources I used.\n",
      "PROCESSING: I've completed gathering and summarizing the latest weather information for Tokyo. Your request is now fully answered.\n",
      "COMPLETED: Response completed successfully.\n"
     ]
    },
    {
     "data": {
      "text/markdown": [
       "Here is the latest weather information for Tokyo, Japan:\n",
       "\n",
       "### Current Weather (as of June 16, 2025)\n",
       "\n",
       "- **Temperature:** Around 27–29°C (80–84°F) in the afternoon and evening hours.\n",
       "    - Example: 17:00 — 29.2°C, 20:00 — 26.9°C, 23:00 — 27.6°C  \n",
       "      [WeatherNews.jp](https://weathernews.jp/onebox/tenki/tokyo/13209/)\n",
       "- **Conditions:**  \n",
       "    - **Sunny to partly cloudy** throughout the day.  \n",
       "    - No precipitation recorded; skies have been mostly clear with some clouds in the afternoon.\n",
       "    - **Humidity:** High, contributing to a muggy, summer-like feel.\n",
       "    - **Wind:** Light, from the south/southwest.\n",
       "- **Notable Alerts:**  \n",
       "    - **Heat advisory:** \"猛暑日地点・真夏日地点ともに今年最多　明日も熱中症に厳重警戒\" — Today saw the highest number of extremely hot and summer days so far this year. There is a continued warning for heatstroke risk tomorrow.  \n",
       "      [WeatherNews.jp](https://weathernews.jp/onebox/tenki/tokyo/13209/)\n",
       "    - **Yahoo! Weather** also notes \"厳重警戒\" (strict caution) for heatstroke and recommends hydration and sun protection.  \n",
       "      [Yahoo!天気](https://weather.yahoo.co.jp/weather/jp/13/4410/13209.html)\n",
       "\n",
       "### Forecast for Today\n",
       "\n",
       "- **General Outlook:**  \n",
       "    - **Very hot and humid** conditions, with temperatures similar to late July averages.\n",
       "    - **No significant rain** expected; occasional clouds but mostly sunny.\n",
       "    - **UV Index:** Moderate to high — sun protection recommended.\n",
       "    - **No severe weather alerts** besides heat/heatstroke risk.\n",
       "\n",
       "---\n",
       "\n",
       "### Sources\n",
       "\n",
       "- [WeatherNews.jp - Machida, Tokyo (Hourly Observations)](https://weathernews.jp/onebox/tenki/tokyo/13209/)\n",
       "- [Yahoo!天気 - Machida, Tokyo](https://weather.yahoo.co.jp/weather/jp/13/4410/13209.html)\n",
       "- [Time and Date - Tokyo, Japan (Current Conditions)](https://www.timeanddate.com/weather/japan/tokyo)\n",
       "\n",
       "---\n",
       "\n",
       "**Summary:**  \n",
       "Tokyo is experiencing very hot, humid, and mostly sunny weather today, with temperatures near 29°C (84°F). There are no rain or storm alerts, but there is a strong advisory for heat and heatstroke risk. Stay hydrated and take sun precautions if you are outdoors."
      ],
      "text/plain": [
       "<IPython.core.display.Markdown object>"
      ]
     },
     "metadata": {},
     "output_type": "display_data"
    },
    {
     "name": "stdout",
     "output_type": "stream",
     "text": [
      "PROCESSING: Starting agent...\n",
      "PROCESSING: I'm now searching for the latest weather information in Tokyo, Japan.\n",
      "PROCESSING: Let me review the latest weather data for Tokyo and prepare a clear summary for you, including temperature, conditions, and any important alerts, with sources.\n",
      "PROCESSING: I've completed gathering and summarizing the latest weather information for Tokyo. Your request is now fully answered.\n",
      "COMPLETED: Response completed successfully.\n"
     ]
    },
    {
     "data": {
      "text/markdown": [
       "Here is the latest weather information for Tokyo, Japan:\n",
       "\n",
       "**Current Weather (as of June 15, 2025, morning):**\n",
       "- **Temperature:** 76°F (24°C)\n",
       "- **Conditions:** Mild, mostly cloudy to partly sunny, with some scattered showers possible.\n",
       "- **Humidity:** 98%\n",
       "- **Wind:** 12 mph from the south\n",
       "- **Pressure:** 29.50 inHg\n",
       "- **Dew Point:** 76°F (24°C)\n",
       "- **Visibility:** Not specified\n",
       "\n",
       "**Forecast for Today:**\n",
       "- **High/Low:** 86°F / 75°F (30°C / 24°C)\n",
       "- **Chance of Rain:** Low in the morning, increasing to scattered showers in the afternoon.\n",
       "- **UV Index:** Moderate to high\n",
       "\n",
       "**Notable Weather Alerts:**\n",
       "- No severe weather alerts reported for Tokyo at this time.\n",
       "\n",
       "**Summary:**  \n",
       "Tokyo is experiencing warm and humid conditions with temperatures in the mid-70s °F (mid-20s °C). The sky is mostly cloudy with a chance of scattered showers, especially later in the day. Winds are moderate from the south, and humidity is very high, making it feel muggy.\n",
       "\n",
       "**Sources:**\n",
       "- [Time and Date - Tokyo Weather](https://www.timeanddate.com/weather/japan/tokyo)\n",
       "- [Weather.com - Tokyo Hourly Forecast](https://weather.com/weather/hourbyhour/l/Minato+ku+Tokyo+Prefecture+Japan?canonicalCityId=89a9a327ec5fd290c4d12f51a20485cb)\n",
       "- [BBC Weather - Tokyo](https://www.bbc.com/weather/1850147)\n",
       "\n",
       "Let me know if you need a more detailed forecast or specific information!"
      ],
      "text/plain": [
       "<IPython.core.display.Markdown object>"
      ]
     },
     "metadata": {},
     "output_type": "display_data"
    },
    {
     "name": "stderr",
     "output_type": "stream",
     "text": [
      " 56%|█████▌    | 5/9 [01:12<00:51, 12.95s/it]"
     ]
    },
    {
     "name": "stdout",
     "output_type": "stream",
     "text": [
      "PROCESSING: Starting agent...\n",
      "PROCESSING: I'm now searching for the latest weather information in Tokyo, Japan.\n",
      "PROCESSING: I'm now analyzing the latest weather data for Tokyo and will summarize the current temperature, conditions, and any important alerts, along with links to the sources.\n",
      "PROCESSING: I'm now preparing a clear summary of the current weather in Tokyo, including temperature, conditions, and any important alerts, with links to all sources used.\n",
      "COMPLETED: Response completed successfully.\n"
     ]
    },
    {
     "data": {
      "text/markdown": [
       "Here’s the latest weather information for Tokyo, Japan:\n",
       "\n",
       "**Current Conditions (as of June 15, 2025):**\n",
       "- **Temperature:** Around 26.9°C (80°F) in the afternoon, with highs expected to reach 30°C or higher in the coming days. Morning temperatures are mild, around 76°F (24°C).\n",
       "- **Weather:** Mostly sunny to partly cloudy, with high humidity (up to 98%). Some areas nearby have reported scattered showers, but Tokyo itself is experiencing mostly clear to partly cloudy skies.\n",
       "- **Wind:** Light to moderate, around 12 mph from the south.\n",
       "- **Humidity:** Very high, up to 98%.\n",
       "- **Pressure:** Around 29.50 inHg.\n",
       "- **Notable Alerts:**  \n",
       "  - **Heat Alert:** A period of record-breaking heat is expected, with Tokyo forecast to reach or exceed 35°C (95°F) on June 17–18. The Japan Meteorological Agency has issued high temperature advisories, warning of potential heatstroke risk, especially at night when temperatures may not drop significantly.  \n",
       "  - **No major rain or storm warnings** at this time, but the risk of heat-related illness is elevated.\n",
       "\n",
       "**Summary:**  \n",
       "Tokyo is currently experiencing hot and humid weather, with temperatures rising and a heatwave expected to peak midweek. Residents are advised to take precautions against heatstroke, especially during the night.\n",
       "\n",
       "**Sources:**  \n",
       "- [tenki.jp (Japanese weather service, June 15, 2025)](https://tenki.jp/forecaster/r_fukutomi/2025/06/15/34131.html)  \n",
       "- [Time and Date: Tokyo Weather](https://www.timeanddate.com/weather/japan/tokyo)  \n",
       "- [The Weather Channel: Tokyo 10-Day Forecast](https://weather.com/weather/tenday/l/Minato+ku+Tokyo+Prefecture+Japan?canonicalCityId=89a9a327ec5fd290c4d12f51a20485cb)  \n",
       "- [BBC Weather: Tokyo](https://www.bbc.com/weather/1850147)  \n",
       "\n",
       "Let me know if you need more detailed forecasts or specific hourly updates!"
      ],
      "text/plain": [
       "<IPython.core.display.Markdown object>"
      ]
     },
     "metadata": {},
     "output_type": "display_data"
    },
    {
     "name": "stderr",
     "output_type": "stream",
     "text": [
      " 67%|██████▋   | 6/9 [01:15<00:30, 10.08s/it]"
     ]
    },
    {
     "name": "stdout",
     "output_type": "stream",
     "text": [
      "PROCESSING: Starting agent...\n",
      "PROCESSING: I'm now searching for the latest information about the current weather in Tokyo.\n",
      "PROCESSING: I'm now analyzing the latest weather data for Tokyo and will summarize the current conditions, temperature, and any important alerts, along with source links.\n",
      "PROCESSING: I'm now preparing a clear summary of the current weather in Tokyo, including temperature, conditions, and any important alerts, with sources cited for your reference.\n",
      "COMPLETED: Response completed successfully.\n"
     ]
    },
    {
     "data": {
      "text/markdown": [
       "**Current Weather in Tokyo, Japan (as of June 16, 2025):**\n",
       "\n",
       "- **Temperature:** Around 35–36°C (95–97°F) in central Tokyo. Today, Tokyo experienced its first day above 36°C this year, marking the hottest day so far.  \n",
       "- **Conditions:** Mostly sunny and extremely hot, with high humidity making it feel even warmer.  \n",
       "- **Notable Alerts:**  \n",
       "  - **Heatwave Warning:** Tokyo and much of Japan are under a heatwave advisory. The Japan Meteorological Agency has issued high temperature warnings, with the risk of heatstroke elevated, especially at night due to minimal cooling (tropical nights).\n",
       "  - **Forecast:** The heat is expected to intensify through June 17–19, with more days above 35°C likely.  \n",
       "- **Advice:** Take precautions against heatstroke—stay hydrated, use air conditioning, and avoid outdoor activities during peak heat.\n",
       "\n",
       "**Sources:**\n",
       "- [tenki.jp (Japanese, June 16, 2025)](https://tenki.jp/forecaster/domoto_yukiyo/2025/06/16/34146.html)\n",
       "- [tenki.jp (Japanese, June 15, 2025)](https://tenki.jp/forecaster/r_fukutomi/2025/06/15/34131.html)\n",
       "- [The Weather Channel 10-Day Tokyo Forecast](https://weather.com/weather/tenday/l/Minato+ku+Tokyo+Prefecture+Japan?canonicalCityId=89a9a327ec5fd290c4d12f51a20485cb)\n",
       "- [BBC Weather – Tokyo](https://www.bbc.com/weather/1850147)\n",
       "\n",
       "**Summary:**  \n",
       "Tokyo is experiencing a record-breaking early summer heatwave, with temperatures reaching or exceeding 36°C. The heat is expected to persist and intensify over the next few days. Residents and visitors should be vigilant about heat-related health risks."
      ],
      "text/plain": [
       "<IPython.core.display.Markdown object>"
      ]
     },
     "metadata": {},
     "output_type": "display_data"
    },
    {
     "name": "stderr",
     "output_type": "stream",
     "text": [
      " 78%|███████▊  | 7/9 [01:16<00:15,  7.63s/it]"
     ]
    },
    {
     "name": "stdout",
     "output_type": "stream",
     "text": [
      "PROCESSING: Starting agent...\n",
      "PROCESSING: I'm now searching for the latest weather information in Tokyo, Japan.\n",
      "PROCESSING: Let me review the latest weather data for Tokyo and summarize the current conditions for you, including temperature, weather alerts, and sources.\n",
      "PROCESSING: I've completed the summary of the current weather in Tokyo, including temperature, conditions, and any alerts, with sources provided. Your request is now fully answered.\n",
      "COMPLETED: Response completed successfully.\n"
     ]
    },
    {
     "data": {
      "text/markdown": [
       "Here is the latest weather information for Tokyo, Japan:\n",
       "\n",
       "**Current Temperature & Conditions**\n",
       "- As of June 16, 2025, the temperature in Tokyo is around **79°F (26°C)** in the evening, with **sunny to partly cloudy** conditions. Humidity is high, around **79%**, and winds are coming from the south at about 12 mph.  \n",
       "  - [Source: timeanddate.com](https://www.timeanddate.com/weather/japan/tokyo)\n",
       "  - [Source: tenki.jp](https://tenki.jp/forecaster/r_fukutomi/2025/06/15/34131.html)\n",
       "\n",
       "**Forecast & Weather Alerts**\n",
       "- **Heat Alert:** Tokyo is experiencing a period of record-breaking early summer heat. Daytime highs are expected to reach or exceed **35°C (95°F)** on June 17–18, with the possibility of setting new records for the earliest \"mousho-bi\" (extremely hot day) in June. Nighttime temperatures will also remain high, increasing the risk of heatstroke even at night.\n",
       "- **Heatstroke Risk:** The Japan Meteorological Agency has issued a general high-temperature advisory, warning of dangerous heat and urging precautions against heatstroke, especially for the elderly and at night.\n",
       "- **No major rain or storm alerts** are currently in effect, but the focus is on the ongoing heatwave.\n",
       "  - [Source: tenki.jp](https://tenki.jp/forecaster/r_fukutomi/2025/06/15/34131.html)\n",
       "  - [Source: timeanddate.com](https://www.timeanddate.com/weather/japan/tokyo)\n",
       "\n",
       "**Summary Table**\n",
       "\n",
       "| Time         | Temp (°F/°C) | Condition         | Humidity | Wind      | Alerts         |\n",
       "|--------------|--------------|-------------------|----------|-----------|----------------|\n",
       "| June 16, PM  | 79°F / 26°C  | Sunny/Partly Cloudy | 79%      | S 12 mph  | Heat advisory  |\n",
       "| June 17–18   | 95°F+ / 35°C+| Very Hot, Sunny   | High     | Variable  | Heat advisory  |\n",
       "\n",
       "**Recommendations:**  \n",
       "- Stay hydrated and avoid outdoor activities during peak heat.\n",
       "- Use air conditioning at night to prevent heatstroke.\n",
       "- Monitor local advisories for updates.\n",
       "\n",
       "**Sources:**  \n",
       "- [timeanddate.com - Tokyo Weather](https://www.timeanddate.com/weather/japan/tokyo)  \n",
       "- [tenki.jp - Weather News & Heat Alert (Japanese)](https://tenki.jp/forecaster/r_fukutomi/2025/06/15/34131.html)"
      ],
      "text/plain": [
       "<IPython.core.display.Markdown object>"
      ]
     },
     "metadata": {},
     "output_type": "display_data"
    },
    {
     "name": "stdout",
     "output_type": "stream",
     "text": [
      "PROCESSING: Starting agent...\n",
      "PROCESSING: I'm now searching for the latest weather information in Tokyo, Japan.\n",
      "PROCESSING: I'm now analyzing the latest weather reports for Tokyo to give you a clear summary of the current conditions, including temperature, weather, and any alerts. I'll also provide links to the sources.\n",
      "PROCESSING: I've completed the search and provided a summary of the current weather in Tokyo, including temperature, conditions, and any alerts. Your request is now fully answered.\n",
      "COMPLETED: Response completed successfully.\n"
     ]
    },
    {
     "data": {
      "text/markdown": [
       "As of June 16, 2025, the current weather in Tokyo, Japan is:\n",
       "\n",
       "- **Temperature:** Around 27–29°C (81–84°F) in the afternoon and evening.\n",
       "- **Conditions:** Mostly sunny to partly cloudy, with no significant rainfall reported. Humidity is high (around 70–80%), making it feel warmer.\n",
       "- **Wind:** Light, from the south or southeast at 2–4 m/s.\n",
       "- **Notable Alerts:** There is a **heatstroke advisory** in effect due to the ongoing hot and humid conditions. Residents are advised to take precautions against heat-related illnesses.\n",
       "\n",
       "**Summary Table:**\n",
       "\n",
       "| Time (JST) | Temp (°C) | Weather      | Humidity | Wind      |\n",
       "|------------|-----------|--------------|----------|-----------|\n",
       "| 16:00–18:00| 27–29     | Sunny/Partly Cloudy | 70–80%  | S/SE 2–4 m/s |\n",
       "\n",
       "**Sources:**\n",
       "- [WeatherNews Japan (町田市, Tokyo)](https://weathernews.jp/onebox/tenki/tokyo/13209/)\n",
       "- [Time and Date – Tokyo Weather](https://www.timeanddate.com/weather/japan/tokyo)\n",
       "- [WeatherNews Japan – Yokohama (near Tokyo)](https://weathernews.jp/v/wl/35.44089/139.641116944444/q=%E6%A8%AA%E6%B5%9C&v=258371104c9d4db9e4e8ebe404ee2c357c9cceb8175e53c6d298ef779898ee4e&lang=ja)\n",
       "\n",
       "**Note:** The hot and humid weather is expected to continue, so please stay hydrated and avoid strenuous outdoor activities during peak heat hours."
      ],
      "text/plain": [
       "<IPython.core.display.Markdown object>"
      ]
     },
     "metadata": {},
     "output_type": "display_data"
    },
    {
     "name": "stderr",
     "output_type": "stream",
     "text": [
      "100%|██████████| 9/9 [01:42<00:00, 11.41s/it]"
     ]
    },
    {
     "name": "stdout",
     "output_type": "stream",
     "text": [
      "Time taken: 102.70103192329407 seconds\n"
     ]
    },
    {
     "name": "stderr",
     "output_type": "stream",
     "text": [
      "\n"
     ]
    }
   ],
   "source": [
    "async def invoke_for_user(user):\n",
    "    sync_client = lumnisai.AsyncClient().for_user(str(user.id))\n",
    "    response = await sync_client.invoke(\n",
    "        prompt=\"What is the weather in Tokyo?\",\n",
    "        progress=True\n",
    "    )\n",
    "    display_markdown(response.output_text)\n",
    "    return response.progress\n",
    "\n",
    "# Create tasks for parallel execution\n",
    "tasks = [invoke_for_user(user) for user in users.users]\n",
    "\n",
    "import time \n",
    "start_time = time.time()\n",
    "# Execute all tasks in parallel with progress tracking\n",
    "results = []\n",
    "for task in tqdm(asyncio.as_completed(tasks), total=len(tasks)):\n",
    "    result = await task\n",
    "    results.append(result)\n",
    "\n",
    "print(f\"Time taken: {time.time() - start_time} seconds\")"
   ]
  },
  {
   "cell_type": "code",
   "execution_count": 5,
   "metadata": {},
   "outputs": [
    {
     "name": "stdout",
     "output_type": "stream",
     "text": [
      "PROCESSING: Starting agent...\n",
      "PROCESSING: I'm now searching for the most recent information about trends in AI agents and machine learning for 2025. This will help me provide you with an up-to-date overview.\n",
      "PROCESSING: I'm now analyzing the latest research and news to provide you with a clear, up-to-date summary of the most important trends in AI agents and machine learning for 2025, with sources included.\n",
      "PROCESSING: I've completed the research and provided a professional summary of the latest trends in AI agents and machine learning for 2025, including key developments and citations. No further steps are needed.\n",
      "COMPLETED: Response completed successfully.\n"
     ]
    },
    {
     "data": {
      "text/markdown": [
       "Certainly! Here is a concise, professional summary of the most important and recent trends in AI agents and machine learning as of 2025, with key developments, emerging technologies, and notable shifts, along with citations.\n",
       "\n",
       "---\n",
       "\n",
       "## Key Trends in AI Agents and Machine Learning (2025)\n",
       "\n",
       "### 1. The Rise of Agentic AI and Autonomous Agents\n",
       "\n",
       "- **Agentic AI**—AI systems capable of autonomous, goal-driven behavior—has become the defining trend of 2025. These agents can plan, reason, act independently, and collaborate with other agents or humans, moving beyond traditional chatbots and assistants.\n",
       "- **Multi-agent systems** are gaining traction, where networks of specialized agents work together to solve complex, multi-step tasks, mirroring human team dynamics in areas like logistics, finance, healthcare, and software engineering.\n",
       "- **Enterprise adoption** is accelerating, with AI agents handling workflows, automating business processes, and even taking on roles like “AI Chief of Staff” or “AI CMO” to augment executive functions.\n",
       "- **Agentic frameworks** (e.g., Auto-GPT, LangChain, CrewAI, MetaGPT) and orchestration platforms are maturing, enabling rapid development and deployment of agent-based solutions.\n",
       "- **Human-AI collaboration** is emphasized, with agents acting as digital teammates rather than mere tools, leading to the concept of Elevated Collaborative Intelligence (HI + AI = ECI).\n",
       "\n",
       "> [Medium: Rise of Autonomous AI Agentics](https://medium.com/@carsten.krause/by-carsten-krause-march-25th-2025-the-rise-of-autonomous-ai-agentics-from-year-of-ai-agents-to-d07d81d239a3)  \n",
       "> [MIT Sloan Management Review: Five Trends in AI and Data Science for 2025](https://sloanreview.mit.edu/article/five-trends-in-ai-and-data-science-for-2025/)  \n",
       "> [Uptech: 7 AI Trends for 2025](https://www.uptech.team/blog/ai-trends-2025)\n",
       "\n",
       "---\n",
       "\n",
       "### 2. Multimodal and Reasoning-Centric AI\n",
       "\n",
       "- **Multimodal AI agents** now process and integrate text, images, audio, video, and structured data, enabling richer and more human-like understanding and interaction.\n",
       "- **Advanced reasoning**: New models (e.g., OpenAI’s GPT-4o, Google Gemini, Anthropic Claude 3) exhibit improved logical, step-by-step, and causal reasoning, moving beyond pattern recognition to actual problem-solving and planning.\n",
       "- **Retrieval-Augmented Generation (RAG)** and **Model Context Protocol (MCP)** are being adopted to allow agents to access up-to-date, domain-specific knowledge and maintain context across complex workflows.\n",
       "\n",
       "> [Dev.to: The Top 5 AI Agent Trends for 2025](https://dev.to/aniruddhaadak/the-top-5-ai-agent-trends-for-2025-386g)  \n",
       "> [Uptech: 7 AI Trends for 2025](https://www.uptech.team/blog/ai-trends-2025)\n",
       "\n",
       "---\n",
       "\n",
       "### 3. Democratization and Operationalization of AI\n",
       "\n",
       "- **AutoML and No-Code/Low-Code Platforms**: The rise of AutoML and user-friendly platforms enables non-experts to build, deploy, and manage machine learning models, accelerating adoption across SMEs and non-technical teams.\n",
       "- **Edge AI and On-Device ML**: Increasing deployment of models on devices (phones, IoT, wearables) for privacy, speed, and cost efficiency.\n",
       "- **ML Ops**: Maturity in ML Ops practices (versioning, monitoring, CI/CD for ML) is making large-scale, reliable AI deployment feasible.\n",
       "\n",
       "> [GeeksforGeeks: Future of Machine Learning in 2025](https://www.geeksforgeeks.org/future-of-machine-learning/)  \n",
       "> [LinkedIn: Top 10 Breakthrough Machine Learning Trends in 2025](https://www.linkedin.com/pulse/top-10-breakthrough-machine-learning-trends-2025-jay-ghosh-cpnjc)\n",
       "\n",
       "---\n",
       "\n",
       "### 4. Explainable, Responsible, and Ethical AI\n",
       "\n",
       "- **Explainable AI (XAI)** and **Responsible AI** are now business imperatives, driven by regulatory requirements (e.g., EU AI Act) and the need for trust in high-stakes domains (healthcare, finance, law).\n",
       "- **Bias mitigation, fairness, and transparency** are prioritized, with new tools and frameworks for auditing and governing AI models.\n",
       "- **Federated learning** and privacy-preserving ML are increasingly used to address data privacy and compliance.\n",
       "\n",
       "> [MachineLearningMastery: 7 Machine Learning Trends to Watch in 2025](https://machinelearningmastery.com/7-machine-learning-trends-2025/)  \n",
       "> [GeeksforGeeks: Top Machine Learning Trends in 2025](https://www.geeksforgeeks.org/top-machine-learning-trends/)\n",
       "\n",
       "---\n",
       "\n",
       "### 5. Generative and Foundation Models\n",
       "\n",
       "- **Generative AI** (text, image, audio, video) continues to expand, with models becoming more multimodal and domain-specialized.\n",
       "- **Foundation models** (large, pre-trained models) are being fine-tuned with proprietary or synthetic data for industry-specific applications.\n",
       "- **Synthetic data** is increasingly used to overcome data scarcity and privacy challenges.\n",
       "\n",
       "> [LinkedIn: Top 10 Breakthrough Machine Learning Trends in 2025](https://www.linkedin.com/pulse/top-10-breakthrough-machine-learning-trends-2025-jay-ghosh-cpnjc)  \n",
       "> [GeeksforGeeks: Future of Machine Learning in 2025](https://www.geeksforgeeks.org/future-of-machine-learning/)\n",
       "\n",
       "---\n",
       "\n",
       "### 6. Key Industry Applications and Impact\n",
       "\n",
       "- **Healthcare**: Multi-agent teams for diagnostics, patient monitoring, and drug discovery.\n",
       "- **Finance**: Autonomous agents for trading, fraud detection, and compliance.\n",
       "- **Manufacturing and Logistics**: Swarm intelligence for supply chain optimization and smart factories.\n",
       "- **Education, Retail, Legal, and more**: Personalized learning, customer engagement, contract analysis, etc.\n",
       "\n",
       "> [Medium: Agentic AI Trends in 2025](https://medium.com/aimonks/agentic-ai-trends-in-2025-the-rise-of-autonomous-digital-workers-3f47868fca3a)  \n",
       "> [GeeksforGeeks: Future of Machine Learning in 2025](https://www.geeksforgeeks.org/future-of-machine-learning/)\n",
       "\n",
       "---\n",
       "\n",
       "### 7. Challenges and Open Questions\n",
       "\n",
       "- **Reliability and robustness**: Agents still struggle with long-term memory, context retention, and error recovery.\n",
       "- **Security and oversight**: Autonomous agents require robust human-in-the-loop controls and auditability.\n",
       "- **Workforce impact**: Shift toward hybrid teams and new roles managing AI “colleagues”; reskilling is essential.\n",
       "\n",
       "> [MIT Sloan Management Review: Five Trends in AI and Data Science for 2025](https://sloanreview.mit.edu/article/five-trends-in-ai-and-data-science-for-2025/)  \n",
       "> [Medium: Rise of Autonomous AI Agentics](https://medium.com/@carsten.krause/by-carsten-krause-march-25th-2025-the-rise-of-autonomous-ai-agentics-from-year-of-ai-agents-to-d07d81d239a3)\n",
       "\n",
       "---\n",
       "\n",
       "## Conclusion\n",
       "\n",
       "2025 marks a pivotal year where AI agents and machine learning are moving from experimental to operational, with agentic AI, multimodal reasoning, democratization, and responsible AI at the forefront. Businesses and professionals should focus on integrating these technologies thoughtfully, ensuring ethical oversight, and preparing for a future where human-AI collaboration is the norm.\n",
       "\n",
       "---\n",
       "\n",
       "**References**\n",
       "\n",
       "- [Medium: Rise of Autonomous AI Agentics](https://medium.com/@carsten.krause/by-carsten-krause-march-25th-2025-the-rise-of-autonomous-ai-agentics-from-year-of-ai-agents-to-d07d81d239a3)\n",
       "- [MIT Sloan Management Review: Five Trends in AI and Data Science for 2025](https://sloanreview.mit.edu/article/five-trends-in-ai-and-data-science-for-2025/)\n",
       "- [Uptech: 7 AI Trends for 2025](https://www.uptech.team/blog/ai-trends-2025)\n",
       "- [GeeksforGeeks: Future of Machine Learning in 2025](https://www.geeksforgeeks.org/future-of-machine-learning/)\n",
       "- [LinkedIn: Top 10 Breakthrough Machine Learning Trends in 2025](https://www.linkedin.com/pulse/top-10-breakthrough-machine-learning-trends-2025-jay-ghosh-cpnjc)\n",
       "- [MachineLearningMastery: 7 Machine Learning Trends to Watch in 2025](https://machinelearningmastery.com/7-machine-learning-trends-2025/)\n",
       "- [Medium: Agentic AI Trends in 2025](https://medium.com/aimonks/agentic-ai-trends-in-2025-the-rise-of-autonomous-digital-workers-3f47868fca3a)\n",
       "- [Dev.to: The Top 5 AI Agent Trends for 2025](https://dev.to/aniruddhaadak/the-top-5-ai-agent-trends-for-2025-386g)\n",
       "\n",
       "---\n",
       "\n",
       "*For a deeper dive, see the linked articles and reports above.*"
      ],
      "text/plain": [
       "<IPython.core.display.Markdown object>"
      ]
     },
     "metadata": {},
     "output_type": "display_data"
    },
    {
     "data": {
      "text/plain": [
       "[ProgressEntry(ts=datetime.datetime(2025, 6, 17, 21, 9, 24, 834211, tzinfo=TzInfo(UTC)), state='processing', message='Starting agent...'),\n",
       " ProgressEntry(ts=datetime.datetime(2025, 6, 17, 21, 9, 32, 188285, tzinfo=TzInfo(UTC)), state='processing', message=\"I'm now searching for the most recent information about trends in AI agents and machine learning for 2025. This will help me provide you with an up-to-date overview.\"),\n",
       " ProgressEntry(ts=datetime.datetime(2025, 6, 17, 21, 10, 8, 546598, tzinfo=TzInfo(UTC)), state='processing', message=\"I'm now analyzing the latest research and news to provide you with a clear, up-to-date summary of the most important trends in AI agents and machine learning for 2025, with sources included.\"),\n",
       " ProgressEntry(ts=datetime.datetime(2025, 6, 17, 21, 10, 43, 324413, tzinfo=TzInfo(UTC)), state='processing', message=\"I've completed the research and provided a professional summary of the latest trends in AI agents and machine learning for 2025, including key developments and citations. No further steps are needed.\"),\n",
       " ProgressEntry(ts=datetime.datetime(2025, 6, 17, 21, 10, 43, 391559, tzinfo=TzInfo(UTC)), state='completed', message='Response completed successfully.')]"
      ]
     },
     "execution_count": 5,
     "metadata": {},
     "output_type": "execute_result"
    }
   ],
   "source": [
    "sync_client =  lumnisai.AsyncClient(scope=Scope.TENANT)\n",
    "response = await sync_client.invoke(\n",
    "    prompt=\"What are the latest trends in AI agents and machine learning? \",\n",
    "    progress=True\n",
    "    )\n",
    "\n",
    "display_markdown(response.output_text)\n",
    "response.progress"
   ]
  },
  {
   "cell_type": "code",
   "execution_count": 10,
   "metadata": {},
   "outputs": [
    {
     "name": "stdout",
     "output_type": "stream",
     "text": [
      "2025-06-17T21:10:44.828031+00:00 - PROCESSING Starting agent...\n",
      "2025-06-17T21:10:51.426621+00:00 - PROCESSING I'm now searching for the most recent trends in AI agents and machine learning to provide you with an up-to-date overview.\n",
      "2025-06-17T21:11:06.814203+00:00 - PROCESSING I'm now analyzing and synthesizing the latest research and news on AI agents and machine learning from 2025 to provide you with a clear, professional summary of the most important trends, including source citations.\n",
      "2025-06-17T21:11:56.924538+00:00 - PROCESSING The summary of the latest trends in AI agents and machine learning is now complete. I'm preparing the final overview for you.\n",
      "2025-06-17T21:11:57.001240+00:00 - COMPLETED Response completed successfully.\n"
     ]
    }
   ],
   "source": [
    "for progress in response.progress:\n",
    "    print(progress)"
   ]
  },
  {
   "cell_type": "code",
   "execution_count": 3,
   "metadata": {},
   "outputs": [
    {
     "name": "stdout",
     "output_type": "stream",
     "text": [
      "Starting research task...\n",
      "Status: in_progress\n",
      "PROCESSING: I'm now searching for the current weather in Tokyo and Boston, as well as the latest news in AI and machine learning. I'll gather this information and then summarize it for you.\n",
      "Status: in_progress\n",
      "PROCESSING: I'm now analyzing all the search results to prepare a clear, organized summary of the current weather in Tokyo and Boston, as well as the latest news in AI and machine learning. I'll include sources for each section.\n",
      "Status: succeeded\n",
      "COMPLETED: Response completed successfully.\n",
      "\n",
      "==================================================\n",
      "Task completed!\n"
     ]
    }
   ],
   "source": [
    "\"\"\"\n",
    "Streaming responses example using tenant scope (default).\n",
    "Shows real-time progress updates using invoke(stream=True).\n",
    "\"\"\"\n",
    "\n",
    "# Auto-initializes on first use - no context manager needed  \n",
    "client = lumnisai.AsyncClient(scope=Scope.TENANT)\n",
    "\n",
    "print(\"Starting research task...\")\n",
    "\n",
    "async for update in await client.invoke(\n",
    "    \"What is the current weather in Tokyo and boston? What is the latest news in AI and machine learning?\",\n",
    "    stream=True,\n",
    "    poll_interval=4,\n",
    "    wait_timeout=10\n",
    "):\n",
    "        # Show progress messages if available\n",
    "        if update.progress and len(update.progress) > 0:\n",
    "            latest = update.progress[-1]\n",
    "            print(f\"{latest.state.upper()}: {latest.message}\")\n",
    "        \n",
    "        # Show final result\n",
    "        if update.status == \"succeeded\" and update.output_text:\n",
    "            print(\"\\n\" + \"=\"*50)\n",
    "            print(\"Task completed!\")\n",
    "        elif update.status == \"failed\":\n",
    "            print(\"Task failed!\")\n",
    "            break\n",
    "\n"
   ]
  },
  {
   "cell_type": "code",
   "execution_count": 4,
   "metadata": {},
   "outputs": [
    {
     "data": {
      "text/markdown": [
       "Certainly! Here’s a clear, organized summary of the latest information on the current weather in Tokyo and Boston, as well as the latest news in AI and machine learning. Each section includes a list of sources in markdown format.\n",
       "\n",
       "---\n",
       "\n",
       "## 1. Current Weather in Tokyo\n",
       "\n",
       "**Summary (as of June 15, 2025):**\n",
       "\n",
       "- **Temperature:** Highs around 86°F (30°C), lows near 72°F (22°C)\n",
       "- **Conditions:** Showery and cloudy, with high humidity (up to 98% reported in the morning)\n",
       "- **Forecast:** The coming week is expected to be record-breakingly hot, with several days above 30°C and possible \"mousho\" (extreme heat) days above 35°C, especially June 17–18. Nights will remain warm, raising the risk of heat-related illnesses.\n",
       "- **Special Notes:** The Tokyo area is experiencing a stretch of “梅雨の晴れ間” (clear breaks during the rainy season), contributing to the unusual heat. Residents are advised to take precautions against heatstroke, especially at night.\n",
       "\n",
       "**Sources:**\n",
       "- [Time and Date: Tokyo Weather](https://www.timeanddate.com/weather/japan/tokyo)\n",
       "- [tenki.jp Weather News (Japanese)](https://tenki.jp/forecaster/r_fukutomi/2025/06/15/34131.html)\n",
       "- [BBC Weather: Tokyo](https://www.bbc.com/weather/1850147)\n",
       "- [Weather.com: Tokyo Forecast](https://weather.com/weather/today/l/Minato+ku+Tokyo+Prefecture+Japan?canonicalCityId=89a9a327ec5fd290c4d12f51a20485cb)\n",
       "- [The Weather Network: Tokyo](https://www.theweathernetwork.com/en/city/jp/tokyo/tokyo/current)\n",
       "\n",
       "---\n",
       "\n",
       "## 2. Current Weather in Boston\n",
       "\n",
       "**Summary (as of June 16, 2025):**\n",
       "\n",
       "- **Temperature:** Around 66°F (19°C) in the evening; highs earlier in the day reached 79°F (26°C)\n",
       "- **Conditions:** Mostly cloudy to partly cloudy; humidity around 54–61%\n",
       "- **Forecast:** Tonight will be partly cloudy with lows near 59°F (15°C). Tomorrow (June 17) is expected to be much warmer, with highs reaching 82°F (28°C) and continued partly to mostly cloudy skies.\n",
       "- **Special Notes:** The week ahead will see a steady climb in temperatures, with peak heat and humidity expected later in the week. Occasional storms are possible as a cold front approaches.\n",
       "\n",
       "**Sources:**\n",
       "- [Weather.com: Boston, MA](https://weather.com/weather/today/l/USMA0046:1:US)\n",
       "- [Wunderground: Boston, MA](https://www.wunderground.com/weather/us/ma/boston)\n",
       "- [NBC Boston Weather](https://www.nbcboston.com/weather/)\n",
       "- [WHDH Weather Blog](https://whdh.com/weather-blog/cool-fathers-day-forecast/)\n",
       "- [WCVB Channel 5 Weather](https://www.wcvb.com/weather)\n",
       "\n",
       "---\n",
       "\n",
       "## 3. Latest News in AI and Machine Learning\n",
       "\n",
       "**Summary (June 2025):**\n",
       "\n",
       "- **Major Breakthroughs:**\n",
       "    - **Brain-inspired AI:** Researchers developed \"Lp-Convolution,\" a new AI technique that makes computer vision more efficient and brain-like, improving accuracy and robustness in image recognition while reducing computational costs.\n",
       "    - **AI for Medical Diagnosis:** A new ultra-lightweight AI model can diagnose lung cancer using just a laptop, outperforming larger models and making advanced diagnostics accessible even with small datasets.\n",
       "    - **AI Discovers New Math:** Google DeepMind’s AlphaEvolve agent improved on Strassen’s matrix multiplication algorithm for the first time in over 50 years, showcasing AI’s potential for scientific discovery.\n",
       "    - **Generative AI in Biology:** AI-designed DNA sequences can now control gene expression in healthy mammalian cells, opening doors for precise gene therapies.\n",
       "    - **Text-to-Video Advances:** New models like MagicTime can generate realistic, physics-aware metamorphic videos (e.g., a flower blooming), moving closer to simulating real-world processes.\n",
       "- **Industry & Policy:**\n",
       "    - **Apple, Google, Meta, and others** are rolling out new AI-powered features in consumer devices and services.\n",
       "    - **OpenAI, Anthropic, and DeepSeek** continue to release new models, with OpenAI’s o3-mini and Google’s Gemini 3 among the latest.\n",
       "    - **AI Safety & Regulation:** The US and international partners are convening to address AI safety, while the UK has criminalized AI-generated child abuse material.\n",
       "    - **AI in the Newsroom & Content:** Media organizations are integrating AI for content creation and moderation, with some layoffs attributed to automation.\n",
       "    - **AI in Warfare:** Ukraine and other countries are deploying AI-powered drones and weapon detection systems.\n",
       "    - **AI in Healthcare:** New AI tests and tools are being developed for cancer diagnostics, personalized medicine, and digital therapeutics.\n",
       "    - **AI Market Growth:** The global AI market is projected to reach $4.8 trillion by 2033.\n",
       "\n",
       "**Sources:**\n",
       "- [ScienceDaily: Brain-inspired AI breakthrough](https://www.sciencedaily.com/releases/2025/04/250422131924.htm)\n",
       "- [News Medical: AI model diagnoses lung cancer using just a laptop](https://www.news-medical.net/news/20250605/AI-model-diagnoses-lung-cancer-using-just-a-laptop.aspx)\n",
       "- [LinkedIn: Google's AlphaEvolve math breakthrough](https://www.linkedin.com/pulse/ai-math-breakthrough-googles-alphaevolve-improves-strassens-borish-umgdc)\n",
       "- [Crescendo AI: Latest AI News](https://www.crescendo.ai/news/latest-ai-news-and-updates)\n",
       "- [TechXplore: AI & ML News](https://techxplore.com/machine-learning-ai-news/)\n",
       "- [MIT Sloan: Machine learning and generative AI in 2025](https://mitsloan.mit.edu/ideas-made-to-matter/machine-learning-and-generative-ai-what-are-they-good-for)\n",
       "- [ScienceDaily: AI-designed DNA controls genes](https://www.sciencedaily.com/releases/2025/05/250508112324.htm)\n",
       "- [ScienceDaily: Text-to-video AI blossoms](https://www.sciencedaily.com/releases/2025/05/250505170633.htm)\n",
       "- [Reuters: OpenAI valued at $340B](https://www.reuters.com/technology/artificial-intelligence/openai-talks-investment-round-valuing-it-up-340-billion-wsj-reports-2025-01-30/)\n",
       "- [OpenAI: 12 Days of OpenAI](https://openai.com/12-days/)\n",
       "- [Google AI Blog: Gemini and Veo updates](https://blog.google/technology/google-deepmind/google-gemini-ai-update-december-2024)\n",
       "\n",
       "---\n",
       "\n",
       "If you need more details on any topic, let me know!"
      ],
      "text/plain": [
       "<IPython.core.display.Markdown object>"
      ]
     },
     "metadata": {},
     "output_type": "display_data"
    }
   ],
   "source": [
    "display_markdown(update.output_text)"
   ]
  },
  {
   "cell_type": "code",
   "execution_count": null,
   "metadata": {},
   "outputs": [],
   "source": []
  }
 ],
 "metadata": {
  "kernelspec": {
   "display_name": ".venv",
   "language": "python",
   "name": "python3"
  },
  "language_info": {
   "codemirror_mode": {
    "name": "ipython",
    "version": 3
   },
   "file_extension": ".py",
   "mimetype": "text/x-python",
   "name": "python",
   "nbconvert_exporter": "python",
   "pygments_lexer": "ipython3",
   "version": "3.11.0"
  }
 },
 "nbformat": 4,
 "nbformat_minor": 2
}
