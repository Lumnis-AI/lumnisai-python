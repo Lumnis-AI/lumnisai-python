{
 "cells": [
  {
   "cell_type": "code",
   "execution_count": 1,
   "metadata": {},
   "outputs": [],
   "source": [
    "%load_ext autoreload\n",
    "%autoreload 2"
   ]
  },
  {
   "cell_type": "code",
   "execution_count": 2,
   "metadata": {},
   "outputs": [
    {
     "name": "stdout",
     "output_type": "stream",
     "text": [
      "Existing Users:\n",
      "     alice@test-acme.one\n",
      "==================================================\n",
      "Existing API keys:\n",
      "     EXA_API_KEY Exists - Created at 2025-06-20T02:50:30.419402+00:00\n",
      "     OPENAI_API_KEY Exists - Created at 2025-06-20T02:50:25.676567+00:00\n",
      "==================================================\n",
      "Setup Complete!\n"
     ]
    }
   ],
   "source": [
    "import lumnisai\n",
    "from lumnisai import Scope, ApiProvider, AsyncClient\n",
    "from IPython.display import Markdown\n",
    "from tqdm import tqdm\n",
    "import asyncio\n",
    "from dotenv import load_dotenv\n",
    "import os\n",
    "\n",
    "load_dotenv()\n",
    "\n",
    "\n",
    "def display_markdown(text):\n",
    "    display(Markdown(text))\n",
    "\n",
    "# Create client\n",
    "lumnisai_client = lumnisai.AsyncClient()\n",
    "\n",
    "# List users\n",
    "users = await lumnisai_client.list_users(page_size=50)\n",
    "\n",
    "# Check if alice@test-acme.one exists in users\n",
    "alice_user = next((user for user in users.users if user.email == \"alice@test-acme.one\"), None)\n",
    "\n",
    "# Create user if not found\n",
    "if alice_user is None:\n",
    "    user = await lumnisai_client.create_user( email=\"alice@test-acme.one\", first_name=\"Alice\", last_name=\"Doe\" )\n",
    "\n",
    "# Print users\n",
    "print(\"Existing Users:\")\n",
    "for user in users.users:\n",
    "    print(\"    \", user.email)\n",
    "\n",
    "print(\"=\"*50)\n",
    "\n",
    "# List API keys\n",
    "api_keys = await lumnisai_client.list_api_keys()\n",
    "print(\"Existing API keys:\")\n",
    "for api_key in api_keys:\n",
    "    print(\"    \", api_key.provider, \"Exists - Created at\", api_key.created_at)\n",
    "\n",
    "print(\"=\"*50)\n",
    "\n",
    "# Add API keys\n",
    "await lumnisai_client.add_api_key(ApiProvider.OPENAI_API_KEY, os.getenv(\"OPENAI_API_KEY\"))\n",
    "await lumnisai_client.add_api_key(ApiProvider.EXA_API_KEY, os.getenv(\"EXA_API_KEY\"))\n",
    "\n",
    "print(\"Setup Complete!\")"
   ]
  },
  {
   "cell_type": "code",
   "execution_count": null,
   "metadata": {},
   "outputs": [],
   "source": [
    "user_scoped_client = lumnisai.AsyncClient().for_user(\"alice@test-acme.one\")\n",
    "response = await user_scoped_client.invoke(\n",
    "    prompt=\"What is the weather in Tokyo?\",\n",
    "    progress=True\n",
    ")\n",
    "# print(response.progress)\n",
    "display_markdown(response.output_text)"
   ]
  },
  {
   "cell_type": "code",
   "execution_count": null,
   "metadata": {},
   "outputs": [
    {
     "ename": "NameError",
     "evalue": "name 'user_scoped_client' is not defined",
     "output_type": "error",
     "traceback": [
      "\u001b[31m---------------------------------------------------------------------------\u001b[39m",
      "\u001b[31mNameError\u001b[39m                                 Traceback (most recent call last)",
      "\u001b[36mCell\u001b[39m\u001b[36m \u001b[39m\u001b[32mIn[19]\u001b[39m\u001b[32m, line 1\u001b[39m\n\u001b[32m----> \u001b[39m\u001b[32m1\u001b[39m response = \u001b[38;5;28;01mawait\u001b[39;00m \u001b[43muser_scoped_client\u001b[49m.invoke(\n\u001b[32m      2\u001b[39m     prompt=\u001b[33m\"\u001b[39m\u001b[33mWhat are the latest trends in AI agents and machine learning? \u001b[39m\u001b[33m\"\u001b[39m,\n\u001b[32m      3\u001b[39m     progress=\u001b[38;5;28;01mTrue\u001b[39;00m\n\u001b[32m      4\u001b[39m     )\n\u001b[32m      6\u001b[39m display_markdown(response.output_text)\n",
      "\u001b[31mNameError\u001b[39m: name 'user_scoped_client' is not defined"
     ]
    }
   ],
   "source": [
    "response = await user_scoped_client.invoke(\n",
    "    prompt=\"What are the latest trends in AI agents and machine learning? \",\n",
    "    progress=True\n",
    "    )\n",
    "# print(response.progress)\n",
    "display_markdown(response.output_text)"
   ]
  },
  {
   "cell_type": "code",
   "execution_count": 3,
   "metadata": {},
   "outputs": [
    {
     "name": "stdout",
     "output_type": "stream",
     "text": [
      "Starting research task...\n",
      "Status: in_progress\n",
      "PROCESSING: I'm now searching for the current weather in Tokyo and Boston, as well as the latest news in AI and machine learning. I'll gather this information and then summarize it for you.\n",
      "Status: in_progress\n",
      "PROCESSING: I'm now analyzing all the search results to prepare a clear, organized summary of the current weather in Tokyo and Boston, as well as the latest news in AI and machine learning. I'll include sources for each section.\n",
      "Status: succeeded\n",
      "COMPLETED: Response completed successfully.\n",
      "\n",
      "==================================================\n",
      "Task completed!\n"
     ]
    }
   ],
   "source": [
    "\"\"\"\n",
    "Streaming responses example using tenant scope (default).\n",
    "Shows real-time progress updates using invoke(stream=True).\n",
    "\"\"\"\n",
    "\n",
    "# Auto-initializes on first use - no context manager needed  \n",
    "client = lumnisai.AsyncClient(scope=Scope.TENANT)\n",
    "\n",
    "print(\"Starting research task...\")\n",
    "\n",
    "async for update in await client.invoke(\n",
    "    \"What is the current weather in Tokyo and boston? What is the latest news in AI and machine learning?\",\n",
    "    stream=True,\n",
    "    poll_interval=4,\n",
    "    wait_timeout=10\n",
    "):\n",
    "        # Show progress messages if available\n",
    "        if update.progress and len(update.progress) > 0:\n",
    "            latest = update.progress[-1]\n",
    "            print(f\"{latest.state.upper()}: {latest.message}\")\n",
    "        \n",
    "        # Show final result\n",
    "        if update.status == \"succeeded\" and update.output_text:\n",
    "            print(\"\\n\" + \"=\"*50)\n",
    "            print(\"Task completed!\")\n",
    "        elif update.status == \"failed\":\n",
    "            print(\"Task failed!\")\n",
    "            break\n",
    "\n"
   ]
  },
  {
   "cell_type": "code",
   "execution_count": 4,
   "metadata": {},
   "outputs": [
    {
     "data": {
      "text/markdown": [
       "Certainly! Here’s a clear, organized summary of the latest information on the current weather in Tokyo and Boston, as well as the latest news in AI and machine learning. Each section includes a list of sources in markdown format.\n",
       "\n",
       "---\n",
       "\n",
       "## 1. Current Weather in Tokyo\n",
       "\n",
       "**Summary (as of June 15, 2025):**\n",
       "\n",
       "- **Temperature:** Highs around 86°F (30°C), lows near 72°F (22°C)\n",
       "- **Conditions:** Showery and cloudy, with high humidity (up to 98% reported in the morning)\n",
       "- **Forecast:** The coming week is expected to be record-breakingly hot, with several days above 30°C and possible \"mousho\" (extreme heat) days above 35°C, especially June 17–18. Nights will remain warm, raising the risk of heat-related illnesses.\n",
       "- **Special Notes:** The Tokyo area is experiencing a stretch of “梅雨の晴れ間” (clear breaks during the rainy season), contributing to the unusual heat. Residents are advised to take precautions against heatstroke, especially at night.\n",
       "\n",
       "**Sources:**\n",
       "- [Time and Date: Tokyo Weather](https://www.timeanddate.com/weather/japan/tokyo)\n",
       "- [tenki.jp Weather News (Japanese)](https://tenki.jp/forecaster/r_fukutomi/2025/06/15/34131.html)\n",
       "- [BBC Weather: Tokyo](https://www.bbc.com/weather/1850147)\n",
       "- [Weather.com: Tokyo Forecast](https://weather.com/weather/today/l/Minato+ku+Tokyo+Prefecture+Japan?canonicalCityId=89a9a327ec5fd290c4d12f51a20485cb)\n",
       "- [The Weather Network: Tokyo](https://www.theweathernetwork.com/en/city/jp/tokyo/tokyo/current)\n",
       "\n",
       "---\n",
       "\n",
       "## 2. Current Weather in Boston\n",
       "\n",
       "**Summary (as of June 16, 2025):**\n",
       "\n",
       "- **Temperature:** Around 66°F (19°C) in the evening; highs earlier in the day reached 79°F (26°C)\n",
       "- **Conditions:** Mostly cloudy to partly cloudy; humidity around 54–61%\n",
       "- **Forecast:** Tonight will be partly cloudy with lows near 59°F (15°C). Tomorrow (June 17) is expected to be much warmer, with highs reaching 82°F (28°C) and continued partly to mostly cloudy skies.\n",
       "- **Special Notes:** The week ahead will see a steady climb in temperatures, with peak heat and humidity expected later in the week. Occasional storms are possible as a cold front approaches.\n",
       "\n",
       "**Sources:**\n",
       "- [Weather.com: Boston, MA](https://weather.com/weather/today/l/USMA0046:1:US)\n",
       "- [Wunderground: Boston, MA](https://www.wunderground.com/weather/us/ma/boston)\n",
       "- [NBC Boston Weather](https://www.nbcboston.com/weather/)\n",
       "- [WHDH Weather Blog](https://whdh.com/weather-blog/cool-fathers-day-forecast/)\n",
       "- [WCVB Channel 5 Weather](https://www.wcvb.com/weather)\n",
       "\n",
       "---\n",
       "\n",
       "## 3. Latest News in AI and Machine Learning\n",
       "\n",
       "**Summary (June 2025):**\n",
       "\n",
       "- **Major Breakthroughs:**\n",
       "    - **Brain-inspired AI:** Researchers developed \"Lp-Convolution,\" a new AI technique that makes computer vision more efficient and brain-like, improving accuracy and robustness in image recognition while reducing computational costs.\n",
       "    - **AI for Medical Diagnosis:** A new ultra-lightweight AI model can diagnose lung cancer using just a laptop, outperforming larger models and making advanced diagnostics accessible even with small datasets.\n",
       "    - **AI Discovers New Math:** Google DeepMind’s AlphaEvolve agent improved on Strassen’s matrix multiplication algorithm for the first time in over 50 years, showcasing AI’s potential for scientific discovery.\n",
       "    - **Generative AI in Biology:** AI-designed DNA sequences can now control gene expression in healthy mammalian cells, opening doors for precise gene therapies.\n",
       "    - **Text-to-Video Advances:** New models like MagicTime can generate realistic, physics-aware metamorphic videos (e.g., a flower blooming), moving closer to simulating real-world processes.\n",
       "- **Industry & Policy:**\n",
       "    - **Apple, Google, Meta, and others** are rolling out new AI-powered features in consumer devices and services.\n",
       "    - **OpenAI, Anthropic, and DeepSeek** continue to release new models, with OpenAI’s o3-mini and Google’s Gemini 3 among the latest.\n",
       "    - **AI Safety & Regulation:** The US and international partners are convening to address AI safety, while the UK has criminalized AI-generated child abuse material.\n",
       "    - **AI in the Newsroom & Content:** Media organizations are integrating AI for content creation and moderation, with some layoffs attributed to automation.\n",
       "    - **AI in Warfare:** Ukraine and other countries are deploying AI-powered drones and weapon detection systems.\n",
       "    - **AI in Healthcare:** New AI tests and tools are being developed for cancer diagnostics, personalized medicine, and digital therapeutics.\n",
       "    - **AI Market Growth:** The global AI market is projected to reach $4.8 trillion by 2033.\n",
       "\n",
       "**Sources:**\n",
       "- [ScienceDaily: Brain-inspired AI breakthrough](https://www.sciencedaily.com/releases/2025/04/250422131924.htm)\n",
       "- [News Medical: AI model diagnoses lung cancer using just a laptop](https://www.news-medical.net/news/20250605/AI-model-diagnoses-lung-cancer-using-just-a-laptop.aspx)\n",
       "- [LinkedIn: Google's AlphaEvolve math breakthrough](https://www.linkedin.com/pulse/ai-math-breakthrough-googles-alphaevolve-improves-strassens-borish-umgdc)\n",
       "- [Crescendo AI: Latest AI News](https://www.crescendo.ai/news/latest-ai-news-and-updates)\n",
       "- [TechXplore: AI & ML News](https://techxplore.com/machine-learning-ai-news/)\n",
       "- [MIT Sloan: Machine learning and generative AI in 2025](https://mitsloan.mit.edu/ideas-made-to-matter/machine-learning-and-generative-ai-what-are-they-good-for)\n",
       "- [ScienceDaily: AI-designed DNA controls genes](https://www.sciencedaily.com/releases/2025/05/250508112324.htm)\n",
       "- [ScienceDaily: Text-to-video AI blossoms](https://www.sciencedaily.com/releases/2025/05/250505170633.htm)\n",
       "- [Reuters: OpenAI valued at $340B](https://www.reuters.com/technology/artificial-intelligence/openai-talks-investment-round-valuing-it-up-340-billion-wsj-reports-2025-01-30/)\n",
       "- [OpenAI: 12 Days of OpenAI](https://openai.com/12-days/)\n",
       "- [Google AI Blog: Gemini and Veo updates](https://blog.google/technology/google-deepmind/google-gemini-ai-update-december-2024)\n",
       "\n",
       "---\n",
       "\n",
       "If you need more details on any topic, let me know!"
      ],
      "text/plain": [
       "<IPython.core.display.Markdown object>"
      ]
     },
     "metadata": {},
     "output_type": "display_data"
    }
   ],
   "source": [
    "display_markdown(update.output_text)"
   ]
  },
  {
   "cell_type": "code",
   "execution_count": null,
   "metadata": {},
   "outputs": [],
   "source": []
  }
 ],
 "metadata": {
  "kernelspec": {
   "display_name": ".venv",
   "language": "python",
   "name": "python3"
  },
  "language_info": {
   "codemirror_mode": {
    "name": "ipython",
    "version": 3
   },
   "file_extension": ".py",
   "mimetype": "text/x-python",
   "name": "python",
   "nbconvert_exporter": "python",
   "pygments_lexer": "ipython3",
   "version": "3.11.0"
  }
 },
 "nbformat": 4,
 "nbformat_minor": 2
}
