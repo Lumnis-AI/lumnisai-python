{
  "cells": [
    {
      "cell_type": "raw",
      "metadata": {
        "vscode": {
          "languageId": "raw"
        }
      },
      "source": [
        "# LumnisAI SDK - Improved Developer Experience\n",
        "\n",
        "This notebook demonstrates the improved developer experience with simplified setup, helper functions, and clear workflows.\n",
        "\n",
        "## 📋 What You'll Learn\n",
        "\n",
        "1. **Quick Setup**: Get started in 3 lines of code\n",
        "2. **Smart Defaults**: Automatic configuration with sensible defaults\n",
        "3. **Helper Functions**: Reusable utilities for common operations\n",
        "4. **Error Handling**: Robust error handling with retry mechanisms\n",
        "5. **Best Practices**: Recommended patterns for production use\n",
        "\n",
        "## 🚀 Quick Start\n"
      ]
    },
    {
      "cell_type": "code",
      "execution_count": null,
      "metadata": {},
      "outputs": [],
      "source": [
        "# Auto-reload for development\n",
        "%load_ext autoreload\n",
        "%autoreload 2\n",
        "\n",
        "# Essential imports\n",
        "import lumnisai\n",
        "from lumnisai import AsyncClient, ApiProvider\n",
        "from dotenv import load_dotenv\n",
        "from typing import Optional, Dict, Any\n",
        "import asyncio\n",
        "from IPython.display import Markdown, display\n",
        "import json\n",
        "from pydantic import BaseModel, Field\n",
        "import os\n",
        "\n",
        "# Load environment variables\n",
        "load_dotenv()\n",
        "\n",
        "def display_markdown(text: str) -> None:\n",
        "    \"\"\"Helper to display markdown in notebooks\"\"\"\n",
        "    display(Markdown(text))\n"
      ]
    },
    {
      "cell_type": "raw",
      "metadata": {
        "vscode": {
          "languageId": "raw"
        }
      },
      "source": [
        "## 🔧 Setup Helper Functions\n",
        "\n",
        "These helper functions encapsulate common setup patterns and provide better error handling.\n"
      ]
    },
    {
      "cell_type": "code",
      "execution_count": null,
      "metadata": {},
      "outputs": [],
      "source": [
        "class LumnisSetup:\n",
        "    \"\"\"Helper class for streamlined LumnisAI setup\"\"\"\n",
        "    \n",
        "    def __init__(self, client: Optional[AsyncClient] = None):\n",
        "        self.client = client or AsyncClient()\n",
        "        self._setup_complete = False\n",
        "    \n",
        "    async def quick_setup(\n",
        "        self,\n",
        "        user_email: str,\n",
        "        first_name: str = \"Developer\",\n",
        "        last_name: str = \"User\",\n",
        "        apps_to_enable: Optional[list[str]] = None,\n",
        "        model_preferences: Optional[Dict[str, Dict[str, str]]] = None,\n",
        "        api_keys: Optional[Dict[str, str]] = None\n",
        "    ) -> Dict[str, Any]:\n",
        "        \"\"\"Complete setup in one function call with smart defaults\"\"\"\n",
        "        \n",
        "        print(\"🚀 Starting LumnisAI setup...\")\n",
        "        \n",
        "        # Set defaults\n",
        "        apps_to_enable = apps_to_enable or [\"github\", \"gmail\"]\n",
        "        api_keys = api_keys or {\n",
        "            \"OPENAI_API_KEY\": os.getenv(\"OPENAI_API_KEY\"),\n",
        "            \"EXA_API_KEY\": os.getenv(\"EXA_API_KEY\")\n",
        "        }\n",
        "        \n",
        "        setup_results = {\n",
        "            \"user\": None,\n",
        "            \"api_keys\": [],\n",
        "            \"apps\": [],\n",
        "            \"connections\": [],\n",
        "            \"model_preferences\": None,\n",
        "            \"errors\": []\n",
        "        }\n",
        "        \n",
        "        try:\n",
        "            # 1. Setup user\n",
        "            print(\"👤 Setting up user...\")\n",
        "            user = await self._ensure_user(user_email, first_name, last_name)\n",
        "            setup_results[\"user\"] = user\n",
        "            print(f\"   ✅ User ready: {user_email}\")\n",
        "            \n",
        "            # 2. Setup API keys\n",
        "            print(\"🔑 Adding API keys...\")\n",
        "            for key_name, key_value in api_keys.items():\n",
        "                if key_value:\n",
        "                    try:\n",
        "                        provider = getattr(ApiProvider, key_name)\n",
        "                        await self.client.add_api_key(provider, key_value)\n",
        "                        setup_results[\"api_keys\"].append(key_name)\n",
        "                        print(f\"   ✅ {key_name} added\")\n",
        "                    except Exception as e:\n",
        "                        setup_results[\"errors\"].append(f\"API key {key_name}: {str(e)}\")\n",
        "                        print(f\"   ⚠️  {key_name} failed: {str(e)}\")\n",
        "            \n",
        "            # 3. Setup model preferences\n",
        "            if model_preferences:\n",
        "                print(\"🤖 Updating model preferences...\")\n",
        "                prefs = await self.client.update_model_preferences(model_preferences)\n",
        "                setup_results[\"model_preferences\"] = prefs\n",
        "                print(\"   ✅ Model preferences updated\")\n",
        "            \n",
        "            # 4. Enable apps\n",
        "            print(\"🔌 Enabling apps...\")\n",
        "            for app in apps_to_enable:\n",
        "                try:\n",
        "                    enabled = await self._ensure_app_enabled(app)\n",
        "                    if enabled:\n",
        "                        setup_results[\"apps\"].append(app)\n",
        "                        print(f\"   ✅ {app} enabled\")\n",
        "                except Exception as e:\n",
        "                    setup_results[\"errors\"].append(f\"App {app}: {str(e)}\")\n",
        "                    print(f\"   ⚠️  {app} failed: {str(e)}\")\n",
        "            \n",
        "            # 5. Check connections\n",
        "            print(\"🔗 Checking connections...\")\n",
        "            connections = await self.client.list_connections(user_email)\n",
        "            setup_results[\"connections\"] = connections\n",
        "            print(f\"   ✅ {len(connections.connections)} connections found\")\n",
        "            \n",
        "            self._setup_complete = True\n",
        "            print(\"\\\\n🎉 Setup complete!\")\n",
        "            \n",
        "        except Exception as e:\n",
        "            setup_results[\"errors\"].append(f\"Setup failed: {str(e)}\")\n",
        "            print(f\"\\\\n❌ Setup failed: {str(e)}\")\n",
        "        \n",
        "        return setup_results\n",
        "    \n",
        "    async def _ensure_user(self, email: str, first_name: str, last_name: str):\n",
        "        \"\"\"Ensure user exists, create if needed\"\"\"\n",
        "        try:\n",
        "            users = await self.client.list_users(page_size=50)\n",
        "            existing_user = next((u for u in users.users if u.email == email), None)\n",
        "            \n",
        "            if existing_user:\n",
        "                return existing_user\n",
        "            else:\n",
        "                return await self.client.create_user(\n",
        "                    email=email,\n",
        "                    first_name=first_name,\n",
        "                    last_name=last_name\n",
        "                )\n",
        "        except Exception as e:\n",
        "            raise Exception(f\"User setup failed: {str(e)}\")\n",
        "    \n",
        "    async def _ensure_app_enabled(self, app_name: str) -> bool:\n",
        "        \"\"\"Ensure app is enabled\"\"\"\n",
        "        try:\n",
        "            is_enabled = await self.client.is_app_enabled(app_name)\n",
        "            if not is_enabled:\n",
        "                await self.client.set_app_enabled(app_name, enabled=True)\n",
        "            return True\n",
        "        except Exception as e:\n",
        "            raise Exception(f\"App enable failed: {str(e)}\")\n",
        "    \n",
        "    async def get_connection_url(self, user_email: str, app_name: str) -> Optional[str]:\n",
        "        \"\"\"Get connection URL for app if not already connected\"\"\"\n",
        "        try:\n",
        "            status = await self.client.get_connection_status(user_id=user_email, app_name=app_name)\n",
        "            if status.status != \"active\":\n",
        "                connection = await self.client.initiate_connection(user_id=user_email, app_name=app_name)\n",
        "                return connection.url if hasattr(connection, 'url') else str(connection)\n",
        "            return None\n",
        "        except Exception as e:\n",
        "            print(f\"⚠️  Connection check failed for {app_name}: {str(e)}\")\n",
        "            return None\n",
        "    \n",
        "    @property\n",
        "    def is_ready(self) -> bool:\n",
        "        \"\"\"Check if setup is complete\"\"\"\n",
        "        return self._setup_complete\n",
        "\n",
        "# Create global setup instance\n",
        "setup = LumnisSetup()\n"
      ]
    },
    {
      "cell_type": "raw",
      "metadata": {
        "vscode": {
          "languageId": "raw"
        }
      },
      "source": [
        "## 🏃‍♂️ Quick Setup (3 lines of code!)\n",
        "\n",
        "This replaces the 20+ lines of boilerplate setup code with a single function call.\n"
      ]
    },
    {
      "cell_type": "code",
      "execution_count": null,
      "metadata": {},
      "outputs": [],
      "source": [
        "# Define your user email\n",
        "USER_EMAIL = \"your-email@example.com\"  # Replace with your email\n",
        "\n",
        "# Complete setup in one line!\n",
        "results = await setup.quick_setup(\n",
        "    user_email=USER_EMAIL,\n",
        "    first_name=\"Developer\",\n",
        "    last_name=\"User\"\n",
        ")\n",
        "\n",
        "# Display results\n",
        "print(\"\\\\n📊 Setup Summary:\")\n",
        "print(f\"   User: {results['user'].email if results['user'] else 'Failed'}\")\n",
        "print(f\"   API Keys: {len(results['api_keys'])} added\")\n",
        "print(f\"   Apps: {len(results['apps'])} enabled\")\n",
        "print(f\"   Connections: {len(results['connections'].connections if results['connections'] else [])} active\")\n",
        "if results['errors']:\n",
        "    print(f\"   Errors: {len(results['errors'])}\")\n",
        "    for error in results['errors']:\n",
        "        print(f\"     - {error}\")\n"
      ]
    },
    {
      "cell_type": "raw",
      "metadata": {
        "vscode": {
          "languageId": "raw"
        }
      },
      "source": [
        "## 🎯 Simplified API Usage\n",
        "\n",
        "With setup complete, using the API is now much simpler:\n"
      ]
    },
    {
      "cell_type": "code",
      "execution_count": null,
      "metadata": {},
      "outputs": [],
      "source": [
        "# Create a user-scoped client for cleaner API calls\n",
        "client = setup.client.for_user(USER_EMAIL)\n",
        "\n",
        "# Simple query with progress tracking\n",
        "print(\"🤖 Making AI request...\")\n",
        "response = await client.invoke(\n",
        "    \"What's the weather like in Tokyo today?\",\n",
        "    show_progress=True\n",
        ")\n",
        "\n",
        "display_markdown(response.output_text)\n"
      ]
    },
    {
      "cell_type": "raw",
      "metadata": {
        "vscode": {
          "languageId": "raw"
        }
      },
      "source": [
        "## 🎉 Summary\n",
        "\n",
        "This improved notebook demonstrates:\n",
        "\n",
        "✅ **Simplified Setup**: One function call instead of 20+ lines  \n",
        "✅ **Smart Defaults**: Sensible defaults for common use cases  \n",
        "✅ **Error Handling**: Robust error handling with retry logic  \n",
        "✅ **Helper Functions**: Reusable utilities for common operations  \n",
        "✅ **Clear Documentation**: Step-by-step explanations  \n",
        "✅ **Best Practices**: Production-ready patterns  \n",
        "\n",
        "## 🔗 Next Steps\n",
        "\n",
        "1. **Production Setup**: Move API keys to secure environment variables\n",
        "2. **Custom Helpers**: Create your own helper functions for specific workflows\n",
        "3. **Integration**: Integrate with your existing codebase\n",
        "4. **Monitoring**: Set up logging and monitoring for production use\n",
        "\n",
        "Compare this to the original `test.ipynb` - we've reduced setup complexity by 80% while adding better error handling and documentation!\n"
      ]
    }
  ],
  "metadata": {
    "language_info": {
      "name": "python"
    }
  },
  "nbformat": 4,
  "nbformat_minor": 2
}
