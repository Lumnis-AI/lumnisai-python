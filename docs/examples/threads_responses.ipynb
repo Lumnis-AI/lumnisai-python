{
 "cells": [
  {
   "cell_type": "code",
   "execution_count": 3,
   "id": "819f7997",
   "metadata": {},
   "outputs": [
    {
     "name": "stdout",
     "output_type": "stream",
     "text": [
      "Response ID: 908607f7-67c4-413d-bf8d-ba0ed3e01df9\n"
     ]
    },
    {
     "ename": "ValidationError",
     "evalue": "1 validation error for ResponseObject\nartifacts.0.parts.0.metadata\n  Input should be a valid dictionary [type=dict_type, input_value=None, input_type=NoneType]\n    For further information visit https://errors.pydantic.dev/2.11/v/dict_type",
     "output_type": "error",
     "traceback": [
      "\u001b[31m---------------------------------------------------------------------------\u001b[39m",
      "\u001b[31mValidationError\u001b[39m                           Traceback (most recent call last)",
      "\u001b[36mCell\u001b[39m\u001b[36m \u001b[39m\u001b[32mIn[3]\u001b[39m\u001b[32m, line 14\u001b[39m\n\u001b[32m      3\u001b[39m client = lumnisai.AsyncClient()\n\u001b[32m      5\u001b[39m \u001b[38;5;66;03m# user = await client.create_user(\u001b[39;00m\n\u001b[32m      6\u001b[39m \u001b[38;5;66;03m#     email=\"kevin@ksylvest.com\",\u001b[39;00m\n\u001b[32m      7\u001b[39m \u001b[38;5;66;03m#     first_name=\"Kevin\",\u001b[39;00m\n\u001b[32m   (...)\u001b[39m\u001b[32m     11\u001b[39m \n\u001b[32m     12\u001b[39m \u001b[38;5;66;03m# print(\"user\", user)\u001b[39;00m\n\u001b[32m---> \u001b[39m\u001b[32m14\u001b[39m response = \u001b[38;5;28;01mawait\u001b[39;00m client.invoke(\n\u001b[32m     15\u001b[39m     messages=\u001b[33m\"\u001b[39m\u001b[33mAnalyze the latest trends in machine learning\u001b[39m\u001b[33m\"\u001b[39m,\n\u001b[32m     16\u001b[39m     user_id=\u001b[33m\"\u001b[39m\u001b[33malice@test-acme.one\u001b[39m\u001b[33m\"\u001b[39m\n\u001b[32m     17\u001b[39m     \u001b[38;5;66;03m# scope=lumnisai.Scope.TENANT,\u001b[39;00m\n\u001b[32m     18\u001b[39m )\n\u001b[32m     19\u001b[39m \u001b[38;5;28mprint\u001b[39m(response.output_text)\n",
      "\u001b[36mFile \u001b[39m\u001b[32m~/Documents/GitHub/lumnisai-python/lumnisai/async_client.py:264\u001b[39m, in \u001b[36mAsyncClient.invoke\u001b[39m\u001b[34m(self, messages, task, prompt, stream, show_progress, user_id, scope, thread_id, idempotency_key, poll_interval, wait_timeout, **options)\u001b[39m\n\u001b[32m    261\u001b[39m \u001b[38;5;28;01melse\u001b[39;00m:\n\u001b[32m    262\u001b[39m     \u001b[38;5;66;03m# Return single response (blocking)\u001b[39;00m\n\u001b[32m    263\u001b[39m     progress_callback = \u001b[38;5;28mself\u001b[39m._create_simple_progress_callback() \u001b[38;5;28;01mif\u001b[39;00m show_progress \u001b[38;5;28;01melse\u001b[39;00m \u001b[38;5;28;01mNone\u001b[39;00m\n\u001b[32m--> \u001b[39m\u001b[32m264\u001b[39m     \u001b[38;5;28;01mreturn\u001b[39;00m \u001b[38;5;28;01mawait\u001b[39;00m \u001b[38;5;28mself\u001b[39m._invoke_async(\n\u001b[32m    265\u001b[39m         input_data=resolved_input,\n\u001b[32m    266\u001b[39m         user_id=user_id,\n\u001b[32m    267\u001b[39m         scope=scope \u001b[38;5;129;01mor\u001b[39;00m \u001b[38;5;28mself\u001b[39m._default_scope,\n\u001b[32m    268\u001b[39m         thread_id=thread_id,\n\u001b[32m    269\u001b[39m         idempotency_key=idempotency_key,\n\u001b[32m    270\u001b[39m         wait=\u001b[38;5;28;01mTrue\u001b[39;00m,\n\u001b[32m    271\u001b[39m         progress_callback=progress_callback,\n\u001b[32m    272\u001b[39m         poll_interval=poll_interval,\n\u001b[32m    273\u001b[39m         wait_timeout=wait_timeout,\n\u001b[32m    274\u001b[39m         **options\n\u001b[32m    275\u001b[39m     )\n",
      "\u001b[36mFile \u001b[39m\u001b[32m~/Documents/GitHub/lumnisai-python/lumnisai/async_client.py:628\u001b[39m, in \u001b[36mAsyncClient._invoke_async\u001b[39m\u001b[34m(self, input_data, user_id, scope, thread_id, idempotency_key, wait, progress_callback, poll_interval, wait_timeout, **options)\u001b[39m\n\u001b[32m    626\u001b[39m \u001b[38;5;66;03m# Wait for completion if requested\u001b[39;00m\n\u001b[32m    627\u001b[39m \u001b[38;5;28;01mif\u001b[39;00m wait:\n\u001b[32m--> \u001b[39m\u001b[32m628\u001b[39m     final_response = \u001b[38;5;28;01mawait\u001b[39;00m \u001b[38;5;28mself\u001b[39m._poll_for_completion(\n\u001b[32m    629\u001b[39m         response.response_id,\n\u001b[32m    630\u001b[39m         progress_callback=progress_callback,\n\u001b[32m    631\u001b[39m         poll_interval=poll_interval,\n\u001b[32m    632\u001b[39m         wait_timeout=wait_timeout,\n\u001b[32m    633\u001b[39m     )\n\u001b[32m    634\u001b[39m     logger.info(\n\u001b[32m    635\u001b[39m         \u001b[33mf\u001b[39m\u001b[33m\"\u001b[39m\u001b[33mResponse \u001b[39m\u001b[38;5;132;01m{\u001b[39;00mresponse.response_id\u001b[38;5;132;01m}\u001b[39;00m\u001b[33m completed with status: \u001b[39m\u001b[38;5;132;01m{\u001b[39;00mfinal_response.status\u001b[38;5;132;01m}\u001b[39;00m\u001b[33m\"\u001b[39m,\n\u001b[32m    636\u001b[39m         extra={\n\u001b[32m   (...)\u001b[39m\u001b[32m    639\u001b[39m         },\n\u001b[32m    640\u001b[39m     )\n\u001b[32m    641\u001b[39m     \u001b[38;5;28;01mreturn\u001b[39;00m final_response\n",
      "\u001b[36mFile \u001b[39m\u001b[32m~/Documents/GitHub/lumnisai-python/lumnisai/async_client.py:705\u001b[39m, in \u001b[36mAsyncClient._poll_for_completion\u001b[39m\u001b[34m(self, response_id, progress_callback, poll_interval, wait_timeout)\u001b[39m\n\u001b[32m    702\u001b[39m \u001b[38;5;28;01mexcept\u001b[39;00m \u001b[38;5;167;01mException\u001b[39;00m \u001b[38;5;28;01mas\u001b[39;00m e:\n\u001b[32m    703\u001b[39m     \u001b[38;5;66;03m# Fall back to regular polling if long-polling fails\u001b[39;00m\n\u001b[32m    704\u001b[39m     logger.debug(\u001b[33mf\u001b[39m\u001b[33m\"\u001b[39m\u001b[33mLong-polling failed, falling back to regular polling: \u001b[39m\u001b[38;5;132;01m{\u001b[39;00m\u001b[38;5;28mtype\u001b[39m(e).\u001b[34m__name__\u001b[39m\u001b[38;5;132;01m}\u001b[39;00m\u001b[33m: \u001b[39m\u001b[38;5;132;01m{\u001b[39;00me\u001b[38;5;132;01m}\u001b[39;00m\u001b[33m\"\u001b[39m)\n\u001b[32m--> \u001b[39m\u001b[32m705\u001b[39m     current = \u001b[38;5;28;01mawait\u001b[39;00m \u001b[38;5;28mself\u001b[39m.responses.get(response_id)\n\u001b[32m    707\u001b[39m \u001b[38;5;66;03m# Check if we should emit progress update\u001b[39;00m\n\u001b[32m    708\u001b[39m current_msg_count = \u001b[38;5;28mlen\u001b[39m(current.progress) \u001b[38;5;28;01mif\u001b[39;00m current.progress \u001b[38;5;28;01melse\u001b[39;00m \u001b[32m0\u001b[39m\n",
      "\u001b[36mFile \u001b[39m\u001b[32m~/Documents/GitHub/lumnisai-python/lumnisai/resources/responses.py:147\u001b[39m, in \u001b[36mResponsesResource.get\u001b[39m\u001b[34m(self, response_id, wait)\u001b[39m\n\u001b[32m    140\u001b[39m \u001b[38;5;66;03m# Make request\u001b[39;00m\n\u001b[32m    141\u001b[39m response_data = \u001b[38;5;28;01mawait\u001b[39;00m \u001b[38;5;28mself\u001b[39m._transport.request(\n\u001b[32m    142\u001b[39m     \u001b[33m\"\u001b[39m\u001b[33mGET\u001b[39m\u001b[33m\"\u001b[39m,\n\u001b[32m    143\u001b[39m     \u001b[33mf\u001b[39m\u001b[33m\"\u001b[39m\u001b[33m/v1/responses/\u001b[39m\u001b[38;5;132;01m{\u001b[39;00mresponse_id\u001b[38;5;132;01m}\u001b[39;00m\u001b[33m\"\u001b[39m,\n\u001b[32m    144\u001b[39m     params=params,\n\u001b[32m    145\u001b[39m )\n\u001b[32m--> \u001b[39m\u001b[32m147\u001b[39m \u001b[38;5;28;01mreturn\u001b[39;00m \u001b[43mResponseObject\u001b[49m\u001b[43m(\u001b[49m\u001b[43m*\u001b[49m\u001b[43m*\u001b[49m\u001b[43mresponse_data\u001b[49m\u001b[43m)\u001b[49m\n",
      "\u001b[36mFile \u001b[39m\u001b[32m~/Documents/GitHub/lumnisai-python/.venv/lib/python3.11/site-packages/pydantic/main.py:253\u001b[39m, in \u001b[36mBaseModel.__init__\u001b[39m\u001b[34m(self, **data)\u001b[39m\n\u001b[32m    251\u001b[39m \u001b[38;5;66;03m# `__tracebackhide__` tells pytest and some other tools to omit this function from tracebacks\u001b[39;00m\n\u001b[32m    252\u001b[39m __tracebackhide__ = \u001b[38;5;28;01mTrue\u001b[39;00m\n\u001b[32m--> \u001b[39m\u001b[32m253\u001b[39m validated_self = \u001b[38;5;28;43mself\u001b[39;49m\u001b[43m.\u001b[49m\u001b[43m__pydantic_validator__\u001b[49m\u001b[43m.\u001b[49m\u001b[43mvalidate_python\u001b[49m\u001b[43m(\u001b[49m\u001b[43mdata\u001b[49m\u001b[43m,\u001b[49m\u001b[43m \u001b[49m\u001b[43mself_instance\u001b[49m\u001b[43m=\u001b[49m\u001b[38;5;28;43mself\u001b[39;49m\u001b[43m)\u001b[49m\n\u001b[32m    254\u001b[39m \u001b[38;5;28;01mif\u001b[39;00m \u001b[38;5;28mself\u001b[39m \u001b[38;5;129;01mis\u001b[39;00m \u001b[38;5;129;01mnot\u001b[39;00m validated_self:\n\u001b[32m    255\u001b[39m     warnings.warn(\n\u001b[32m    256\u001b[39m         \u001b[33m'\u001b[39m\u001b[33mA custom validator is returning a value other than `self`.\u001b[39m\u001b[38;5;130;01m\\n\u001b[39;00m\u001b[33m'\u001b[39m\n\u001b[32m    257\u001b[39m         \u001b[33m\"\u001b[39m\u001b[33mReturning anything other than `self` from a top level model validator isn\u001b[39m\u001b[33m'\u001b[39m\u001b[33mt supported when validating via `__init__`.\u001b[39m\u001b[38;5;130;01m\\n\u001b[39;00m\u001b[33m\"\u001b[39m\n\u001b[32m    258\u001b[39m         \u001b[33m'\u001b[39m\u001b[33mSee the `model_validator` docs (https://docs.pydantic.dev/latest/concepts/validators/#model-validators) for more details.\u001b[39m\u001b[33m'\u001b[39m,\n\u001b[32m    259\u001b[39m         stacklevel=\u001b[32m2\u001b[39m,\n\u001b[32m    260\u001b[39m     )\n",
      "\u001b[31mValidationError\u001b[39m: 1 validation error for ResponseObject\nartifacts.0.parts.0.metadata\n  Input should be a valid dictionary [type=dict_type, input_value=None, input_type=NoneType]\n    For further information visit https://errors.pydantic.dev/2.11/v/dict_type"
     ]
    }
   ],
   "source": [
    "import lumnisai\n",
    "\n",
    "client = lumnisai.AsyncClient()\n",
    "\n",
    "# user = await client.create_user(\n",
    "#     email=\"kevin@ksylvest.com\",\n",
    "#     first_name=\"Kevin\",\n",
    "#     last_name=\"Sylvestre\",\n",
    "# )\n",
    "\n",
    "\n",
    "# print(\"user\", user)\n",
    "\n",
    "response = await client.invoke(\n",
    "    messages=\"Analyze the latest trends in machine learning\",\n",
    "    user_id=\"alice@test-acme.one\"\n",
    "    # scope=lumnisai.Scope.TENANT,\n",
    ")\n",
    "print(response.output_text)"
   ]
  },
  {
   "cell_type": "code",
   "execution_count": null,
   "id": "0669ec3d",
   "metadata": {},
   "outputs": [],
   "source": []
  },
  {
   "cell_type": "code",
   "execution_count": 20,
   "id": "8605009b",
   "metadata": {},
   "outputs": [],
   "source": [
    "import lumnisai\n",
    "from lumnisai import Scope, ApiProvider, AsyncClient\n",
    "from IPython.display import Markdown\n",
    "from tqdm import tqdm\n",
    "import asyncio\n",
    "from dotenv import load_dotenv\n",
    "import os\n",
    "from typing import Optional\n",
    "import json\n",
    "from pydantic import BaseModel, Field\n",
    "from lumnisai.types import ModelType\n",
    "\n",
    "load_dotenv()\n",
    "\n",
    "lumnisai_agent = lumnisai.AsyncClient()\n",
    "\n",
    "thread_id = 'b2ae134c-6803-4879-92ba-87e3f46edc62'\n"
   ]
  },
  {
   "cell_type": "code",
   "execution_count": 21,
   "id": "b6d58da3",
   "metadata": {},
   "outputs": [
    {
     "name": "stdout",
     "output_type": "stream",
     "text": [
      "Thread ID: b2ae134c-6803-4879-92ba-87e3f46edc62\n",
      "Tenant ID: fa12c8b3-6f5d-434c-9797-fdbe8c1f6915\n",
      "User ID: 368ada42-ac6d-4138-b91b-93676435365c\n",
      "Title: Recent Updates on AI Agents\n",
      "Created At: 2025-07-09 00:01:39.274400+00:00\n",
      "Updated At: 2025-07-09 00:02:11.154994+00:00\n",
      "Response Count: 2\n",
      "Last Response At: 2025-07-09 00:02:31.621747+00:00\n"
     ]
    }
   ],
   "source": [
    "\n",
    "# Get thread\n",
    "thread = await lumnisai_agent.get_thread(thread_id)\n",
    "print(thread)\n",
    "\n"
   ]
  },
  {
   "cell_type": "code",
   "execution_count": 22,
   "id": "aecc1195",
   "metadata": {},
   "outputs": [
    {
     "name": "stdout",
     "output_type": "stream",
     "text": [
      "Response ID: af48abde-9b64-487a-a3aa-f75c803d889a\n",
      "Thread ID: b2ae134c-6803-4879-92ba-87e3f46edc62\n",
      "Status: queued\n",
      "Created At: 2025-07-09 00:02:31.621747+00:00\n",
      "Completed At: None\n",
      "Response ID: 1ba74482-353d-4a14-b730-3999275be84a\n",
      "Thread ID: b2ae134c-6803-4879-92ba-87e3f46edc62\n",
      "Status: succeeded\n",
      "Created At: 2025-07-09 00:01:39.274400+00:00\n",
      "Completed At: 2025-07-09 00:02:11.098924+00:00\n"
     ]
    }
   ],
   "source": [
    "responses = await lumnisai_agent.threads.get_responses(thread_id, limit=50, offset=0)\n",
    "for response in responses:\n",
    "    print(response)"
   ]
  },
  {
   "cell_type": "code",
   "execution_count": null,
   "id": "38ab1b49",
   "metadata": {},
   "outputs": [],
   "source": []
  }
 ],
 "metadata": {
  "kernelspec": {
   "display_name": ".venv",
   "language": "python",
   "name": "python3"
  },
  "language_info": {
   "codemirror_mode": {
    "name": "ipython",
    "version": 3
   },
   "file_extension": ".py",
   "mimetype": "text/x-python",
   "name": "python",
   "nbconvert_exporter": "python",
   "pygments_lexer": "ipython3",
   "version": "3.11.0"
  }
 },
 "nbformat": 4,
 "nbformat_minor": 5
}
